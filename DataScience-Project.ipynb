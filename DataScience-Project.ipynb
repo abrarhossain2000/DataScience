{
 "cells": [
  {
   "cell_type": "code",
   "execution_count": 124,
   "id": "ef808f89",
   "metadata": {},
   "outputs": [],
   "source": [
    "import matplotlib.pyplot as plt\n",
    "import numpy as np\n",
    "import pandas as pd\n",
    "import seaborn as sns"
   ]
  },
  {
   "cell_type": "code",
   "execution_count": 107,
   "id": "2eee6b3d",
   "metadata": {},
   "outputs": [],
   "source": [
    "Budgetdf = pd.read_csv(r'/Users/abrarhossain/Desktop/Capital_Budget.csv')"
   ]
  },
  {
   "cell_type": "code",
   "execution_count": 220,
   "id": "b0ff6b94",
   "metadata": {},
   "outputs": [],
   "source": [
    "BudgetdfColumns = Budgetdf[['Project Type Name','First Fiscal Year','Fiscal Year 1 Amount']]"
   ]
  },
  {
   "cell_type": "code",
   "execution_count": 221,
   "id": "7c9da45c",
   "metadata": {},
   "outputs": [
    {
     "name": "stderr",
     "output_type": "stream",
     "text": [
      "<ipython-input-221-64aff42fbaeb>:3: SettingWithCopyWarning: \n",
      "A value is trying to be set on a copy of a slice from a DataFrame.\n",
      "Try using .loc[row_indexer,col_indexer] = value instead\n",
      "\n",
      "See the caveats in the documentation: https://pandas.pydata.org/pandas-docs/stable/user_guide/indexing.html#returning-a-view-versus-a-copy\n",
      "  Education2019['Total'] = Education2019['Fiscal Year 1 Amount'].sum()\n"
     ]
    }
   ],
   "source": [
    "Education = BudgetdfColumns[(BudgetdfColumns['Project Type Name'] == 'EDUCATION')]\n",
    "Education2019 = Education[Education['First Fiscal Year'] == 2019]\n",
    "Education2019['Total'] = Education2019['Fiscal Year 1 Amount'].sum()\n",
    "Education2 = Education2019[['Project Type Name','First Fiscal Year','Total']]\n",
    "Education2.reset_index(drop=True, inplace=True)"
   ]
  },
  {
   "cell_type": "code",
   "execution_count": 110,
   "id": "724f94bc",
   "metadata": {},
   "outputs": [
    {
     "name": "stdout",
     "output_type": "stream",
     "text": [
      "  Project Type Name  First Fiscal Year        Total\n",
      "0         EDUCATION               2019  11708936024\n"
     ]
    }
   ],
   "source": [
    "df2019 = Education2.head(1)\n",
    "print(df2019)"
   ]
  },
  {
   "cell_type": "code",
   "execution_count": 111,
   "id": "c19212d9",
   "metadata": {},
   "outputs": [
    {
     "name": "stdout",
     "output_type": "stream",
     "text": [
      "  Project Type Name  First Fiscal Year      Total\n",
      "0              FIRE               2019  145504568\n"
     ]
    },
    {
     "name": "stderr",
     "output_type": "stream",
     "text": [
      "<ipython-input-111-103c968b483d>:3: SettingWithCopyWarning: \n",
      "A value is trying to be set on a copy of a slice from a DataFrame.\n",
      "Try using .loc[row_indexer,col_indexer] = value instead\n",
      "\n",
      "See the caveats in the documentation: https://pandas.pydata.org/pandas-docs/stable/user_guide/indexing.html#returning-a-view-versus-a-copy\n",
      "  Fire2019['Total'] = Fire2019['Fiscal Year 1 Amount'].sum()\n"
     ]
    }
   ],
   "source": [
    "Fire = BudgetdfColumns[(BudgetdfColumns['Project Type Name'] == 'FIRE')]\n",
    "Fire2019 = Fire[Fire['First Fiscal Year'] == 2019]\n",
    "Fire2019['Total'] = Fire2019['Fiscal Year 1 Amount'].sum()\n",
    "Fire2 = Fire2019[['Project Type Name','First Fiscal Year','Total']]\n",
    "Fire2.reset_index(drop=True, inplace=True)\n",
    "FireTotal = Fire2.head(1)\n",
    "print(FireTotal)"
   ]
  },
  {
   "cell_type": "code",
   "execution_count": 112,
   "id": "be602f34",
   "metadata": {},
   "outputs": [
    {
     "name": "stdout",
     "output_type": "stream",
     "text": [
      "          Project Type Name  First Fiscal Year     Total\n",
      "0  QUEENS BOROUGH PUB. LIB.               2019  79105469\n"
     ]
    },
    {
     "name": "stderr",
     "output_type": "stream",
     "text": [
      "<ipython-input-112-e317a2c004bb>:3: SettingWithCopyWarning: \n",
      "A value is trying to be set on a copy of a slice from a DataFrame.\n",
      "Try using .loc[row_indexer,col_indexer] = value instead\n",
      "\n",
      "See the caveats in the documentation: https://pandas.pydata.org/pandas-docs/stable/user_guide/indexing.html#returning-a-view-versus-a-copy\n",
      "  Queens2019['Total'] = Queens2019['Fiscal Year 1 Amount'].sum()\n"
     ]
    }
   ],
   "source": [
    "QueensLib = BudgetdfColumns[(BudgetdfColumns['Project Type Name'] == 'QUEENS BOROUGH PUB. LIB.')]\n",
    "Queens2019 = QueensLib[QueensLib['First Fiscal Year'] == 2019]\n",
    "Queens2019['Total'] = Queens2019['Fiscal Year 1 Amount'].sum()\n",
    "Queens2 = Queens2019[['Project Type Name','First Fiscal Year','Total']]\n",
    "Queens2.reset_index(drop=True, inplace=True)\n",
    "QueensTotal = Queens2.head(1)\n",
    "print(QueensTotal)"
   ]
  },
  {
   "cell_type": "code",
   "execution_count": 113,
   "id": "f2ba5098",
   "metadata": {
    "scrolled": true
   },
   "outputs": [
    {
     "name": "stdout",
     "output_type": "stream",
     "text": [
      "         Project Type Name  First Fiscal Year      Total\n",
      "0  NEW YORK PUBLIC LIBRARY               2019  133340285\n"
     ]
    },
    {
     "name": "stderr",
     "output_type": "stream",
     "text": [
      "<ipython-input-113-601a2d003776>:3: SettingWithCopyWarning: \n",
      "A value is trying to be set on a copy of a slice from a DataFrame.\n",
      "Try using .loc[row_indexer,col_indexer] = value instead\n",
      "\n",
      "See the caveats in the documentation: https://pandas.pydata.org/pandas-docs/stable/user_guide/indexing.html#returning-a-view-versus-a-copy\n",
      "  NY2019['Total'] = NY2019['Fiscal Year 1 Amount'].sum()\n"
     ]
    }
   ],
   "source": [
    "NYLib = BudgetdfColumns[(BudgetdfColumns['Project Type Name'] == 'NEW YORK PUBLIC LIBRARY')]\n",
    "NY2019 = NYLib[NYLib['First Fiscal Year'] == 2019]\n",
    "NY2019['Total'] = NY2019['Fiscal Year 1 Amount'].sum()\n",
    "NY2 = NY2019[['Project Type Name','First Fiscal Year','Total']]\n",
    "NY2.reset_index(drop=True, inplace=True)\n",
    "NYTotal = NY2.head(1)\n",
    "print(NYTotal)"
   ]
  },
  {
   "cell_type": "code",
   "execution_count": 114,
   "id": "ef118689",
   "metadata": {},
   "outputs": [
    {
     "name": "stdout",
     "output_type": "stream",
     "text": [
      "         Project Type Name  First Fiscal Year     Total\n",
      "0  BROOKLYN PUBLIC LIBRARY               2019  28401497\n"
     ]
    },
    {
     "name": "stderr",
     "output_type": "stream",
     "text": [
      "<ipython-input-114-c6fa6e943a77>:3: SettingWithCopyWarning: \n",
      "A value is trying to be set on a copy of a slice from a DataFrame.\n",
      "Try using .loc[row_indexer,col_indexer] = value instead\n",
      "\n",
      "See the caveats in the documentation: https://pandas.pydata.org/pandas-docs/stable/user_guide/indexing.html#returning-a-view-versus-a-copy\n",
      "  Brooklyn2019['Total'] = Brooklyn2019['Fiscal Year 1 Amount'].sum()\n"
     ]
    }
   ],
   "source": [
    "BrooklynLib = BudgetdfColumns[(BudgetdfColumns['Project Type Name'] == 'BROOKLYN PUBLIC LIBRARY')]\n",
    "Brooklyn2019 = BrooklynLib[BrooklynLib['First Fiscal Year'] == 2019]\n",
    "Brooklyn2019['Total'] = Brooklyn2019['Fiscal Year 1 Amount'].sum()\n",
    "Brooklyn2 = Brooklyn2019[['Project Type Name','First Fiscal Year','Total']]\n",
    "Brooklyn2.reset_index(drop=True, inplace=True)\n",
    "BrooklynTotal = Brooklyn2.head(1)\n",
    "print(BrooklynTotal)"
   ]
  },
  {
   "cell_type": "code",
   "execution_count": 115,
   "id": "f6f74904",
   "metadata": {},
   "outputs": [
    {
     "name": "stdout",
     "output_type": "stream",
     "text": [
      "          Project Type Name  First Fiscal Year        Total\n",
      "0                 EDUCATION               2019  11708936024\n",
      "0                      FIRE               2019    145504568\n",
      "0  QUEENS BOROUGH PUB. LIB.               2019     79105469\n",
      "0   NEW YORK PUBLIC LIBRARY               2019    133340285\n",
      "0   BROOKLYN PUBLIC LIBRARY               2019     28401497\n"
     ]
    }
   ],
   "source": [
    "df2019 = df2019.append(FireTotal)\n",
    "df2019 = df2019.append(QueensTotal)\n",
    "df2019 = df2019.append(NYTotal)\n",
    "df2019 = df2019.append(BrooklynTotal)\n",
    "print(df2019)"
   ]
  },
  {
   "cell_type": "code",
   "execution_count": 163,
   "id": "3f814007",
   "metadata": {},
   "outputs": [
    {
     "name": "stdout",
     "output_type": "stream",
     "text": [
      "          Project Type Name  First Fiscal Year        Total\n",
      "0                 EDUCATION               2019  11708936024\n",
      "0                      FIRE               2019    145504568\n",
      "0  QUEENS BOROUGH PUB. LIB.               2019     79105469\n",
      "0   NEW YORK PUBLIC LIBRARY               2019    133340285\n",
      "0   BROOKLYN PUBLIC LIBRARY               2019     28401497\n"
     ]
    }
   ],
   "source": [
    "print(df2019)"
   ]
  },
  {
   "cell_type": "code",
   "execution_count": 125,
   "id": "5721dc18",
   "metadata": {},
   "outputs": [],
   "source": [
    "import seaborn as sns"
   ]
  },
  {
   "cell_type": "code",
   "execution_count": 222,
   "id": "0a1f3347",
   "metadata": {},
   "outputs": [],
   "source": [
    "df2 = pd.read_csv(r'/Users/abrarhossain/Desktop/Revenue.csv')"
   ]
  },
  {
   "cell_type": "code",
   "execution_count": 42,
   "id": "67077899",
   "metadata": {},
   "outputs": [
    {
     "name": "stdout",
     "output_type": "stream",
     "text": [
      "                                     Agency Name  Yr1_FY  \\\n",
      "0                                      Mayoralty    2016   \n",
      "1                                      Mayoralty    2016   \n",
      "2                                      Mayoralty    2016   \n",
      "3                                      Mayoralty    2016   \n",
      "4                                      Mayoralty    2016   \n",
      "...                                          ...     ...   \n",
      "30651         District Attorney -Richmond County    2021   \n",
      "30652         District Attorney -Richmond County    2021   \n",
      "30653         District Attorney -Richmond County    2021   \n",
      "30654         District Attorney -Richmond County    2021   \n",
      "30655  Office of Prosecution - Special Narcotics    2021   \n",
      "\n",
      "       Year 1 Revenue Amount  \n",
      "0                  295000000  \n",
      "1                 -275000000  \n",
      "2                 9811756000  \n",
      "3                 1722238000  \n",
      "4                 9605315000  \n",
      "...                      ...  \n",
      "30651                 261546  \n",
      "30652                  83803  \n",
      "30653                  18000  \n",
      "30654                   7974  \n",
      "30655                1127000  \n",
      "\n",
      "[30656 rows x 3 columns]\n"
     ]
    }
   ],
   "source": [
    "prel = df2[['Agency Name','Yr1_FY','Year 1 Revenue Amount']]"
   ]
  },
  {
   "cell_type": "code",
   "execution_count": 223,
   "id": "c50fcfab",
   "metadata": {},
   "outputs": [
    {
     "name": "stderr",
     "output_type": "stream",
     "text": [
      "<ipython-input-223-8e3888ab1abe>:3: SettingWithCopyWarning: \n",
      "A value is trying to be set on a copy of a slice from a DataFrame.\n",
      "Try using .loc[row_indexer,col_indexer] = value instead\n",
      "\n",
      "See the caveats in the documentation: https://pandas.pydata.org/pandas-docs/stable/user_guide/indexing.html#returning-a-view-versus-a-copy\n",
      "  Doe2019['Revenue'] = Doe2019['Year 1 Revenue Amount'].sum()\n"
     ]
    }
   ],
   "source": [
    "Doe= prel[prel['Agency Name'] == 'Department of Education']\n",
    "Doe2019 = Doe[Doe['Yr1_FY'] == 2019]\n",
    "Doe2019['Revenue'] = Doe2019['Year 1 Revenue Amount'].sum()\n",
    "Doe2 = Doe2019[['Agency Name','Yr1_FY','Revenue']]\n",
    "Doe2.reset_index(drop=True, inplace=True)\n",
    "DoeTotal = Doe2.head(1)"
   ]
  },
  {
   "cell_type": "code",
   "execution_count": 189,
   "id": "adaf4e96",
   "metadata": {},
   "outputs": [
    {
     "name": "stdout",
     "output_type": "stream",
     "text": [
      "       Agency Name  Yr1_FY     Revenue\n",
      "0  Fire Department    2019  1302541301\n"
     ]
    },
    {
     "name": "stderr",
     "output_type": "stream",
     "text": [
      "<ipython-input-189-46de27c54eb9>:3: SettingWithCopyWarning: \n",
      "A value is trying to be set on a copy of a slice from a DataFrame.\n",
      "Try using .loc[row_indexer,col_indexer] = value instead\n",
      "\n",
      "See the caveats in the documentation: https://pandas.pydata.org/pandas-docs/stable/user_guide/indexing.html#returning-a-view-versus-a-copy\n",
      "  Firedep2019['Revenue'] = Firedep2019['Year 1 Revenue Amount'].sum()\n"
     ]
    }
   ],
   "source": [
    "Firedep= prel[prel['Agency Name'] == 'Fire Department']\n",
    "Firedep2019 = Firedep[Firedep['Yr1_FY'] == 2019]\n",
    "Firedep2019['Revenue'] = Firedep2019['Year 1 Revenue Amount'].sum()\n",
    "Firedep2 = Firedep2019[['Agency Name','Yr1_FY','Revenue']]\n",
    "Firedep2.reset_index(drop=True, inplace=True)\n",
    "FiredepTotal = Firedep2.head(1)\n",
    "print(FiredepTotal)"
   ]
  },
  {
   "cell_type": "code",
   "execution_count": 191,
   "id": "f983093f",
   "metadata": {},
   "outputs": [
    {
     "name": "stdout",
     "output_type": "stream",
     "text": [
      "               Agency Name  Yr1_FY      Revenue\n",
      "0  Department of Education    2019  39951680664\n"
     ]
    },
    {
     "name": "stderr",
     "output_type": "stream",
     "text": [
      "<ipython-input-191-8133e911647c>:3: SettingWithCopyWarning: \n",
      "A value is trying to be set on a copy of a slice from a DataFrame.\n",
      "Try using .loc[row_indexer,col_indexer] = value instead\n",
      "\n",
      "See the caveats in the documentation: https://pandas.pydata.org/pandas-docs/stable/user_guide/indexing.html#returning-a-view-versus-a-copy\n",
      "  Qbpl2019['Revenue'] = Qbpl2019['Year 1 Revenue Amount'].sum()\n"
     ]
    }
   ],
   "source": [
    "Qbpl= prel[prel['Agency Name'] == 'Queens Borough Public Library']\n",
    "Qbpl2019 = Qbpl[Qbpl['Yr1_FY'] == 2019]\n",
    "Qbpl2019['Revenue'] = Qbpl2019['Year 1 Revenue Amount'].sum()\n",
    "Qbpl2 = Doe2019[['Agency Name','Yr1_FY','Revenue']]\n",
    "Qbpl2.reset_index(drop=True, inplace=True)\n",
    "QbplTotal = Qbpl2.head(1)\n",
    "print(QbplTotal)\n"
   ]
  },
  {
   "cell_type": "code",
   "execution_count": 192,
   "id": "98232be3",
   "metadata": {},
   "outputs": [
    {
     "name": "stdout",
     "output_type": "stream",
     "text": [
      "               Agency Name  Yr1_FY  Revenue\n",
      "0  New York Public Library    2019  1252328\n"
     ]
    },
    {
     "name": "stderr",
     "output_type": "stream",
     "text": [
      "<ipython-input-192-e1c1f54a02da>:3: SettingWithCopyWarning: \n",
      "A value is trying to be set on a copy of a slice from a DataFrame.\n",
      "Try using .loc[row_indexer,col_indexer] = value instead\n",
      "\n",
      "See the caveats in the documentation: https://pandas.pydata.org/pandas-docs/stable/user_guide/indexing.html#returning-a-view-versus-a-copy\n",
      "  Nypl2019['Revenue'] = Nypl2019['Year 1 Revenue Amount'].sum()\n"
     ]
    }
   ],
   "source": [
    "Nypl= prel[prel['Agency Name'] == 'New York Public Library']\n",
    "Nypl2019 = Nypl[Nypl['Yr1_FY'] == 2019]\n",
    "Nypl2019['Revenue'] = Nypl2019['Year 1 Revenue Amount'].sum()\n",
    "Nypl2 = Nypl2019[['Agency Name','Yr1_FY','Revenue']]\n",
    "Nypl2.reset_index(drop=True, inplace=True)\n",
    "NyplTotal = Nypl2.head(1)\n",
    "print(NyplTotal)"
   ]
  },
  {
   "cell_type": "code",
   "execution_count": 193,
   "id": "fd612a0a",
   "metadata": {},
   "outputs": [
    {
     "name": "stdout",
     "output_type": "stream",
     "text": [
      "               Agency Name  Yr1_FY  Revenue\n",
      "0  Brooklyn Public Library    2019  5522000\n"
     ]
    },
    {
     "name": "stderr",
     "output_type": "stream",
     "text": [
      "<ipython-input-193-2de0fa3998aa>:3: SettingWithCopyWarning: \n",
      "A value is trying to be set on a copy of a slice from a DataFrame.\n",
      "Try using .loc[row_indexer,col_indexer] = value instead\n",
      "\n",
      "See the caveats in the documentation: https://pandas.pydata.org/pandas-docs/stable/user_guide/indexing.html#returning-a-view-versus-a-copy\n",
      "  Bpl2019['Revenue'] = Bpl2019['Year 1 Revenue Amount'].sum()\n"
     ]
    }
   ],
   "source": [
    "Bpl= prel[prel['Agency Name'] == 'Brooklyn Public Library']\n",
    "Bpl2019 = Bpl[Bpl['Yr1_FY'] == 2019]\n",
    "Bpl2019['Revenue'] = Bpl2019['Year 1 Revenue Amount'].sum()\n",
    "Bpl2 = Bpl2019[['Agency Name','Yr1_FY','Revenue']]\n",
    "Bpl2.reset_index(drop=True, inplace=True)\n",
    "BplTotal = Bpl2.head(1)\n",
    "print(BplTotal)"
   ]
  },
  {
   "cell_type": "code",
   "execution_count": 194,
   "id": "9fc2404e",
   "metadata": {},
   "outputs": [
    {
     "name": "stdout",
     "output_type": "stream",
     "text": [
      "               Agency Name  Yr1_FY      Revenue\n",
      "0  Department of Education    2019  39951680664\n",
      "0          Fire Department    2019   1302541301\n",
      "0  Department of Education    2019  39951680664\n",
      "0  New York Public Library    2019      1252328\n",
      "0  Brooklyn Public Library    2019      5522000\n"
     ]
    }
   ],
   "source": [
    "Revdf2019 = DoeTotal\n",
    "Revdf2019 = Revdf2019.append(FiredepTotal)\n",
    "Revdf2019 = Revdf2019.append(QbplTotal)\n",
    "Revdf2019 = Revdf2019.append(NyplTotal)\n",
    "Revdf2019 = Revdf2019.append(BplTotal)\n",
    "print(Revdf2019)"
   ]
  },
  {
   "cell_type": "code",
   "execution_count": 197,
   "id": "bea4ec56",
   "metadata": {},
   "outputs": [
    {
     "name": "stdout",
     "output_type": "stream",
     "text": [
      "               Agency Name  Yr1_FY      Revenue\n",
      "0  Department of Education    2019  39951680664\n",
      "0          Fire Department    2019   1302541301\n",
      "0  Department of Education    2019  39951680664\n",
      "0  New York Public Library    2019      1252328\n",
      "0  Brooklyn Public Library    2019      5522000\n",
      "          Project Type Name  First Fiscal Year        Total\n",
      "0                 EDUCATION               2019  11708936024\n",
      "0                      FIRE               2019    145504568\n",
      "0  QUEENS BOROUGH PUB. LIB.               2019     79105469\n",
      "0   NEW YORK PUBLIC LIBRARY               2019    133340285\n",
      "0   BROOKLYN PUBLIC LIBRARY               2019     28401497\n"
     ]
    }
   ],
   "source": [
    "print(Revdf2019)\n",
    "print(df2019)"
   ]
  },
  {
   "cell_type": "code",
   "execution_count": 198,
   "id": "df5fc238",
   "metadata": {},
   "outputs": [
    {
     "name": "stdout",
     "output_type": "stream",
     "text": [
      "          Project Type Name  First Fiscal Year        Total      Revenue\n",
      "0                 EDUCATION               2019  11708936024  39951680664\n",
      "0                      FIRE               2019    145504568   1302541301\n",
      "0  QUEENS BOROUGH PUB. LIB.               2019     79105469  39951680664\n",
      "0   NEW YORK PUBLIC LIBRARY               2019    133340285      1252328\n",
      "0   BROOKLYN PUBLIC LIBRARY               2019     28401497      5522000\n"
     ]
    }
   ],
   "source": [
    "df2019['Revenue']= Revdf2019['Revenue']\n",
    "print(df2019)"
   ]
  },
  {
   "cell_type": "code",
   "execution_count": 200,
   "id": "c68cb1e1",
   "metadata": {},
   "outputs": [
    {
     "data": {
      "text/plain": [
       "([0, 1, 2, 3, 4],\n",
       " [Text(0, 0, ''),\n",
       "  Text(0, 0, ''),\n",
       "  Text(0, 0, ''),\n",
       "  Text(0, 0, ''),\n",
       "  Text(0, 0, '')])"
      ]
     },
     "execution_count": 200,
     "metadata": {},
     "output_type": "execute_result"
    },
    {
     "data": {
      "image/png": "[encoded data removed]",
      "text/plain": [
       "<Figure size 432x288 with 1 Axes>"
      ]
     },
     "metadata": {
      "needs_background": "light"
     },
     "output_type": "display_data"
    }
   ],
   "source": [
    "plt.plot('Project Type Name', 'Total', data=df2019, color='olive')\n",
    "plt.plot('Project Type Name', 'Revenue', data=df2019, color='blue')\n",
    "plt.ticklabel_format(style='plain', axis='y')\n",
    "plt.xticks(rotation=90)"
   ]
  },
  {
   "cell_type": "code",
   "execution_count": null,
   "id": "4d078487",
   "metadata": {},
   "outputs": [],
   "source": []
  }
 ],
 "metadata": {
  "kernelspec": {
   "display_name": "Python 3",
   "language": "python",
   "name": "python3"
  },
  "language_info": {
   "codemirror_mode": {
    "name": "ipython",
    "version": 3
   },
   "file_extension": ".py",
   "mimetype": "text/x-python",
   "name": "python",
   "nbconvert_exporter": "python",
   "pygments_lexer": "ipython3",
   "version": "3.8.8"
  }
 },
 "nbformat": 4,
 "nbformat_minor": 5
}
